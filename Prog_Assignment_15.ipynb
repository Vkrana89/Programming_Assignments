{
 "cells": [
  {
   "cell_type": "code",
   "execution_count": 2,
   "id": "10178f42",
   "metadata": {},
   "outputs": [
    {
     "name": "stdout",
     "output_type": "stream",
     "text": [
      "Enter a number: 170\n",
      "0,35,70,105,140\n"
     ]
    }
   ],
   "source": [
    "#Q1\n",
    "def divisible_by_5_and_7(n):\n",
    "    for num in range(n+1):\n",
    "        if num % 5 == 0 and num % 7 == 0:\n",
    "            yield num\n",
    "\n",
    "# Example usage:\n",
    "n = int(input(\"Enter a number: \"))\n",
    "\n",
    "result = divisible_by_5_and_7(n)\n",
    "output = \",\".join(str(num) for num in result)\n",
    "\n",
    "print(output)\n",
    "\n"
   ]
  },
  {
   "cell_type": "code",
   "execution_count": 3,
   "id": "ed3bd9b2",
   "metadata": {},
   "outputs": [
    {
     "name": "stdout",
     "output_type": "stream",
     "text": [
      "Enter a number: 10\n",
      "0,2,4,6,8,10\n"
     ]
    }
   ],
   "source": [
    "#Q2\n",
    "\n",
    "def even_numbers(n):\n",
    "    for num in range(n+1):\n",
    "        if num % 2 == 0:\n",
    "            yield num\n",
    "\n",
    "# Example usage:\n",
    "n = int(input(\"Enter a number: \"))\n",
    "\n",
    "result = even_numbers(n)\n",
    "output = \",\".join(str(num) for num in result)\n",
    "\n",
    "print(output)\n"
   ]
  },
  {
   "cell_type": "code",
   "execution_count": 13,
   "id": "2bd4b663",
   "metadata": {},
   "outputs": [
    {
     "name": "stdout",
     "output_type": "stream",
     "text": [
      "Enter a number: 7\n",
      "0,1,1,2,3,5,8\n"
     ]
    }
   ],
   "source": [
    "#Q3\n",
    "\n",
    "n = int(input(\"Enter a number: \"))\n",
    "\n",
    "fibonacci_sequence = [0, 1]\n",
    "\n",
    "[fibonacci_sequence.append(fibonacci_sequence[i-1] + fibonacci_sequence[i-2]) for i in range(2, n)]\n",
    "\n",
    "output = \",\".join(map(str, fibonacci_sequence))\n",
    "\n",
    "print(output)\n",
    "\n"
   ]
  },
  {
   "cell_type": "code",
   "execution_count": 14,
   "id": "d9925bd1",
   "metadata": {},
   "outputs": [
    {
     "name": "stdout",
     "output_type": "stream",
     "text": [
      "Enter an email address: vivek@gmail.com\n",
      "vivek\n"
     ]
    }
   ],
   "source": [
    "#Q4\n",
    "\n",
    "email = input(\"Enter an email address: \")\n",
    "\n",
    "# Find the index of '@' symbol\n",
    "at_index = email.index('@')\n",
    "\n",
    "# Extract the substring before '@' as the user name\n",
    "user_name = email[:at_index]\n",
    "\n",
    "print(user_name)\n"
   ]
  },
  {
   "cell_type": "code",
   "execution_count": 15,
   "id": "66ebb83f",
   "metadata": {},
   "outputs": [
    {
     "name": "stdout",
     "output_type": "stream",
     "text": [
      "Shape Area: 0\n",
      "Square Area: 25\n"
     ]
    }
   ],
   "source": [
    "#Q5\n",
    "\n",
    "class Shape:\n",
    "    def __init__(self):\n",
    "        pass\n",
    "    \n",
    "    def area(self):\n",
    "        return 0\n",
    "\n",
    "\n",
    "class Square(Shape):\n",
    "    def __init__(self, length):\n",
    "        super().__init__()\n",
    "        self.length = length\n",
    "    \n",
    "    def area(self):\n",
    "        return self.length * self.length\n",
    "\n",
    "\n",
    "# Usage\n",
    "shape = Shape()\n",
    "print(\"Shape Area:\", shape.area())  # Output: 0\n",
    "\n",
    "square = Square(5)\n",
    "print(\"Square Area:\", square.area())  # Output: 25\n"
   ]
  },
  {
   "cell_type": "code",
   "execution_count": null,
   "id": "f0ac0209",
   "metadata": {},
   "outputs": [],
   "source": []
  }
 ],
 "metadata": {
  "kernelspec": {
   "display_name": "Python 3 (ipykernel)",
   "language": "python",
   "name": "python3"
  },
  "language_info": {
   "codemirror_mode": {
    "name": "ipython",
    "version": 3
   },
   "file_extension": ".py",
   "mimetype": "text/x-python",
   "name": "python",
   "nbconvert_exporter": "python",
   "pygments_lexer": "ipython3",
   "version": "3.10.9"
  }
 },
 "nbformat": 4,
 "nbformat_minor": 5
}
