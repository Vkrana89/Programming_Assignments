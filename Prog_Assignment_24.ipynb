{
 "cells": [
  {
   "cell_type": "code",
   "execution_count": 1,
   "id": "3bacf955",
   "metadata": {},
   "outputs": [
    {
     "name": "stdout",
     "output_type": "stream",
     "text": [
      "[1, 2, 3, 40]\n",
      "[1, 2, 3]\n",
      "[1, 2, 3, 40, 5, 6, 7, 80, 9, 10, 11, 120, 13, 14, 15, 160, 17, 18, 19, 200, 21, 22, 23, 240, 25]\n"
     ]
    }
   ],
   "source": [
    "#Q1\n",
    "\n",
    "def amplify(number):\n",
    "    return [n * 10 if n % 4 == 0 else n for n in range(1, number + 1)]\n",
    "\n",
    "print(amplify(4))\n",
    "# Output: [1, 2, 3, 40]\n",
    "\n",
    "print(amplify(3))\n",
    "# Output: [1, 2, 3]\n",
    "\n",
    "print(amplify(25))\n",
    "# Output: [1, 2, 3, 40, 5, 6, 7, 80, 9, 10, 11, 120, 13, 14, 15, 160, 17, 18, 19, 200, 21, 22, 23, 240, 25]\n"
   ]
  },
  {
   "cell_type": "code",
   "execution_count": 2,
   "id": "c6d33882",
   "metadata": {},
   "outputs": [
    {
     "name": "stdout",
     "output_type": "stream",
     "text": [
      "7\n",
      "0.77\n",
      "0\n"
     ]
    }
   ],
   "source": [
    "#Q2\n",
    "\n",
    "def unique(numbers):\n",
    "    for number in numbers:\n",
    "        if numbers.count(number) == 1:\n",
    "            return number\n",
    "print(unique([3, 3, 3, 7, 3, 3]))\n",
    "# Output: 7\n",
    "\n",
    "print(unique([0, 0, 0.77, 0, 0]))\n",
    "# Output: 0.77\n",
    "\n",
    "print(unique([0, 1, 1, 1, 1, 1, 1, 1]))\n",
    "# Output: 0\n"
   ]
  },
  {
   "cell_type": "code",
   "execution_count": 3,
   "id": "524c8046",
   "metadata": {},
   "outputs": [
    {
     "name": "stdout",
     "output_type": "stream",
     "text": [
      "380\n",
      "27.9\n"
     ]
    }
   ],
   "source": [
    "#Q3\n",
    "\n",
    "import math\n",
    "\n",
    "class Circle:\n",
    "    def __init__(self, radius):\n",
    "        self.radius = radius\n",
    "\n",
    "    def getArea(self):\n",
    "        area = math.pi * self.radius**2\n",
    "        return round(area)\n",
    "\n",
    "    def getPerimeter(self):\n",
    "        perimeter = 2 * math.pi * self.radius\n",
    "        return round(perimeter, 2)\n",
    "\n",
    "    \n",
    "circy = Circle(11)\n",
    "print(circy.getArea())\n",
    "# Output: 380\n",
    "\n",
    "circy = Circle(4.44)\n",
    "print(circy.getPerimeter())\n",
    "# Output: 27.9\n"
   ]
  },
  {
   "cell_type": "code",
   "execution_count": 4,
   "id": "38234668",
   "metadata": {},
   "outputs": [
    {
     "name": "stdout",
     "output_type": "stream",
     "text": [
      "['Apple', 'Google', 'Microsoft']\n",
      "['Raphael', 'Leonardo', 'Donatello', 'Michelangelo']\n",
      "['Jung', 'Turing', 'Einstein']\n"
     ]
    }
   ],
   "source": [
    "#Q4\n",
    "\n",
    "def sort_by_length(lst):\n",
    "    return sorted(lst, key=len)\n",
    "\n",
    "print(sort_by_length([\"Google\", \"Apple\", \"Microsoft\"]))\n",
    "# Output: [\"Apple\", \"Google\", \"Microsoft\"]\n",
    "\n",
    "print(sort_by_length([\"Leonardo\", \"Michelangelo\", \"Raphael\", \"Donatello\"]))\n",
    "# Output: [\"Raphael\", \"Leonardo\", \"Donatello\", \"Michelangelo\"]\n",
    "\n",
    "print(sort_by_length([\"Turing\", \"Einstein\", \"Jung\"]))\n",
    "# Output: [\"Jung\", \"Turing\", \"Einstein\"]\n"
   ]
  },
  {
   "cell_type": "code",
   "execution_count": 5,
   "id": "025238ae",
   "metadata": {},
   "outputs": [
    {
     "name": "stdout",
     "output_type": "stream",
     "text": [
      "True\n",
      "True\n",
      "False\n"
     ]
    }
   ],
   "source": [
    "#Q5\n",
    "\n",
    "def is_triplet(a, b, c):\n",
    "    # Find the squares of the three numbers\n",
    "    squares = [a ** 2, b ** 2, c ** 2]\n",
    "    \n",
    "    # Sort the squares in ascending order\n",
    "    squares.sort()\n",
    "    \n",
    "    # Check if the sum of the squares of the two smallest numbers is equal to the square of the largest number\n",
    "    return squares[0] + squares[1] == squares[2]\n",
    "\n",
    "print(is_triplet(3, 4, 5))\n",
    "# Output: True\n",
    "\n",
    "print(is_triplet(13, 5, 12))\n",
    "# Output: True\n",
    "\n",
    "print(is_triplet(1, 2, 3))\n",
    "# Output: False\n"
   ]
  },
  {
   "cell_type": "code",
   "execution_count": null,
   "id": "d3eb282f",
   "metadata": {},
   "outputs": [],
   "source": []
  }
 ],
 "metadata": {
  "kernelspec": {
   "display_name": "Python 3 (ipykernel)",
   "language": "python",
   "name": "python3"
  },
  "language_info": {
   "codemirror_mode": {
    "name": "ipython",
    "version": 3
   },
   "file_extension": ".py",
   "mimetype": "text/x-python",
   "name": "python",
   "nbconvert_exporter": "python",
   "pygments_lexer": "ipython3",
   "version": "3.10.9"
  }
 },
 "nbformat": 4,
 "nbformat_minor": 5
}
