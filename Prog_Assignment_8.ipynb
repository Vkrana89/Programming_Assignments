{
 "cells": [
  {
   "cell_type": "code",
   "execution_count": 2,
   "id": "628fb0c3",
   "metadata": {},
   "outputs": [
    {
     "name": "stdout",
     "output_type": "stream",
     "text": [
      "The sum of the matrices is:\n",
      "[10, 10, 10]\n",
      "[10, 10, 10]\n",
      "[10, 10, 10]\n"
     ]
    }
   ],
   "source": [
    "#Write a Python Program to Add Two Matrices?\n",
    "def add_matrices(matrix1, matrix2):\n",
    "    rows1 = len(matrix1)\n",
    "    columns1 = len(matrix1[0])\n",
    "    rows2 = len(matrix2)\n",
    "    columns2 = len(matrix2[0])\n",
    "\n",
    "    if rows1 != rows2 or columns1 != columns2:\n",
    "        return None\n",
    "\n",
    "    result = []\n",
    "    for i in range(rows1):\n",
    "        row = []\n",
    "        for j in range(columns1):\n",
    "            row.append(matrix1[i][j] + matrix2[i][j])\n",
    "        result.append(row)\n",
    "\n",
    "    return result\n",
    "\n",
    "# Example usage\n",
    "matrix1 = [[1, 2, 3],\n",
    "           [4, 5, 6],\n",
    "           [7, 8, 9]]\n",
    "\n",
    "matrix2 = [[9, 8, 7],\n",
    "           [6, 5, 4],\n",
    "           [3, 2, 1]]\n",
    "\n",
    "result = add_matrices(matrix1, matrix2)\n",
    "if result is None:\n",
    "    print(\"Matrices cannot be added.\")\n",
    "else:\n",
    "    print(\"The sum of the matrices is:\")\n",
    "    for row in result:\n",
    "        print(row)\n"
   ]
  },
  {
   "cell_type": "code",
   "execution_count": 3,
   "id": "6fdb0f75",
   "metadata": {},
   "outputs": [
    {
     "name": "stdout",
     "output_type": "stream",
     "text": [
      "The product of the matrices is:\n",
      "[58, 64]\n",
      "[139, 154]\n"
     ]
    }
   ],
   "source": [
    "#Write a Python Program to Multiply Two Matrices?\n",
    "def multiply_matrices(matrix1, matrix2):\n",
    "    rows1 = len(matrix1)\n",
    "    columns1 = len(matrix1[0])\n",
    "    rows2 = len(matrix2)\n",
    "    columns2 = len(matrix2[0])\n",
    "\n",
    "    if columns1 != rows2:\n",
    "        return None\n",
    "\n",
    "    result = []\n",
    "    for i in range(rows1):\n",
    "        row = []\n",
    "        for j in range(columns2):\n",
    "            element = 0\n",
    "            for k in range(columns1):\n",
    "                element += matrix1[i][k] * matrix2[k][j]\n",
    "            row.append(element)\n",
    "        result.append(row)\n",
    "\n",
    "    return result\n",
    "\n",
    "# Example usage\n",
    "matrix1 = [[1, 2, 3],\n",
    "           [4, 5, 6]]\n",
    "\n",
    "matrix2 = [[7, 8],\n",
    "           [9, 10],\n",
    "           [11, 12]]\n",
    "\n",
    "result = multiply_matrices(matrix1, matrix2)\n",
    "if result is None:\n",
    "    print(\"Matrices cannot be multiplied.\")\n",
    "else:\n",
    "    print(\"The product of the matrices is:\")\n",
    "    for row in result:\n",
    "        print(row)\n"
   ]
  },
  {
   "cell_type": "code",
   "execution_count": 4,
   "id": "09ba4bf3",
   "metadata": {},
   "outputs": [
    {
     "name": "stdout",
     "output_type": "stream",
     "text": [
      "Original matrix:\n",
      "[1, 2, 3]\n",
      "[4, 5, 6]\n",
      "[7, 8, 9]\n",
      "Transposed matrix:\n",
      "[1, 4, 7]\n",
      "[2, 5, 8]\n",
      "[3, 6, 9]\n"
     ]
    }
   ],
   "source": [
    "#Write a Python Program to Transpose a Matrix?\n",
    "def transpose_matrix(matrix):\n",
    "    rows = len(matrix)\n",
    "    columns = len(matrix[0])\n",
    "\n",
    "    transposed_matrix = []\n",
    "    for j in range(columns):\n",
    "        transposed_row = []\n",
    "        for i in range(rows):\n",
    "            transposed_row.append(matrix[i][j])\n",
    "        transposed_matrix.append(transposed_row)\n",
    "\n",
    "    return transposed_matrix\n",
    "\n",
    "# Example usage\n",
    "matrix = [[1, 2, 3],\n",
    "          [4, 5, 6],\n",
    "          [7, 8, 9]]\n",
    "\n",
    "transposed = transpose_matrix(matrix)\n",
    "print(\"Original matrix:\")\n",
    "for row in matrix:\n",
    "    print(row)\n",
    "\n",
    "print(\"Transposed matrix:\")\n",
    "for row in transposed:\n",
    "    print(row)\n"
   ]
  },
  {
   "cell_type": "code",
   "execution_count": 10,
   "id": "52157bd9",
   "metadata": {},
   "outputs": [
    {
     "name": "stdout",
     "output_type": "stream",
     "text": [
      "Original list of words: ['apple', 'banana', 'hherry', 'date', 'eggplant']\n",
      "Sorted list of words: ['apple', 'banana', 'date', 'eggplant', 'hherry']\n"
     ]
    }
   ],
   "source": [
    "#Write a Python Program to Sort Words in Alphabetic Order?\n",
    "def sort_words(words):\n",
    "    sorted_words = sorted(words)\n",
    "    return sorted_words\n",
    "\n",
    "# Example usage\n",
    "word_list = [\"apple\", \"banana\", \"hherry\", \"date\", \"eggplant\"]\n",
    "sorted_words = sort_words(word_list)\n",
    "\n",
    "print(\"Original list of words:\", word_list)\n",
    "print(\"Sorted list of words:\", sorted_words)\n"
   ]
  },
  {
   "cell_type": "code",
   "execution_count": 3,
   "id": "52c2c4ab",
   "metadata": {},
   "outputs": [
    {
     "name": "stdout",
     "output_type": "stream",
     "text": [
      "Input string: Hello, World! How are you doing?\n",
      "String without punctuation: Hello World How are you doing\n"
     ]
    }
   ],
   "source": [
    "#Write a Python Program to Remove Punctuation From a String?\n",
    "def remove_punctuation(string):\n",
    "    punctuation_chars = \"!\\\"#$%&'()*+,-./:;<=>?@[\\]^_`{|}~\"\n",
    "    string_without_punctuation = \"\"\n",
    "    \n",
    "    for char in string:\n",
    "        if char not in punctuation_chars:\n",
    "            string_without_punctuation += char\n",
    "    \n",
    "    return string_without_punctuation\n",
    "\n",
    "# Example usage\n",
    "input_string = \"Hello, World! How are you doing?\"\n",
    "string_without_punctuation = remove_punctuation(input_string)\n",
    "\n",
    "print(\"Input string:\", input_string)\n",
    "print(\"String without punctuation:\", string_without_punctuation)\n"
   ]
  },
  {
   "cell_type": "code",
   "execution_count": null,
   "id": "6100745c",
   "metadata": {},
   "outputs": [],
   "source": []
  },
  {
   "cell_type": "code",
   "execution_count": null,
   "id": "ba558b11",
   "metadata": {},
   "outputs": [],
   "source": []
  }
 ],
 "metadata": {
  "kernelspec": {
   "display_name": "Python 3 (ipykernel)",
   "language": "python",
   "name": "python3"
  },
  "language_info": {
   "codemirror_mode": {
    "name": "ipython",
    "version": 3
   },
   "file_extension": ".py",
   "mimetype": "text/x-python",
   "name": "python",
   "nbconvert_exporter": "python",
   "pygments_lexer": "ipython3",
   "version": "3.10.9"
  }
 },
 "nbformat": 4,
 "nbformat_minor": 5
}
