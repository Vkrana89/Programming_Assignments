{
 "cells": [
  {
   "cell_type": "code",
   "execution_count": 1,
   "id": "35887fa1",
   "metadata": {},
   "outputs": [
    {
     "name": "stdout",
     "output_type": "stream",
     "text": [
      "175 is a Disarium Number\n"
     ]
    }
   ],
   "source": [
    "#Write a Python program to check if the given number is a Disarium Number?\n",
    "def is_disarium_number(number):\n",
    "    # Convert the number to a string to iterate over its digits\n",
    "    number_str = str(number)\n",
    "    \n",
    "    # Get the number of digits in the number\n",
    "    num_digits = len(number_str)\n",
    "    \n",
    "    # Calculate the sum of digits raised to their respective positions\n",
    "    digit_sum = sum(int(digit) ** (i + 1) for i, digit in enumerate(number_str))\n",
    "    \n",
    "    # Check if the sum is equal to the original number\n",
    "    return digit_sum == number\n",
    "\n",
    "# Example usage\n",
    "num = 175\n",
    "if is_disarium_number(num):\n",
    "    print(num, \"is a Disarium Number\")\n",
    "else:\n",
    "    print(num, \"is not a Disarium Number\")\n"
   ]
  },
  {
   "cell_type": "code",
   "execution_count": 3,
   "id": "b57471d1",
   "metadata": {},
   "outputs": [
    {
     "name": "stdout",
     "output_type": "stream",
     "text": [
      "Disarium numbers between 1 and 100:\n",
      "[1, 2, 3, 4, 5, 6, 7, 8, 9, 89]\n"
     ]
    }
   ],
   "source": [
    "#Write a Python program to print all disarium numbers between 1 to 100?\n",
    "def is_disarium_number(number):\n",
    "    number_str = str(number)\n",
    "    num_digits = len(number_str)\n",
    "    digit_sum = sum(int(digit) ** (i + 1) for i, digit in enumerate(number_str))\n",
    "    return digit_sum == number\n",
    "\n",
    "# Find and print Disarium numbers between 1 and 100\n",
    "disarium_numbers = []\n",
    "for num in range(1, 101):\n",
    "    if is_disarium_number(num):\n",
    "        disarium_numbers.append(num)\n",
    "\n",
    "print(\"Disarium numbers between 1 and 100:\")\n",
    "print(disarium_numbers)\n"
   ]
  },
  {
   "cell_type": "code",
   "execution_count": 5,
   "id": "697a4c39",
   "metadata": {},
   "outputs": [
    {
     "name": "stdout",
     "output_type": "stream",
     "text": [
      "19 is a Happy Number\n"
     ]
    }
   ],
   "source": [
    "#Write a Python program to check if the given number is Happy Number?\n",
    "def is_happy_number(number):\n",
    "    visited = set()  # Set to store visited numbers\n",
    "    \n",
    "    while number != 1 and number not in visited:\n",
    "        visited.add(number)\n",
    "        number = sum(int(digit) ** 2 for digit in str(number))\n",
    "    \n",
    "    return number == 1\n",
    "\n",
    "# Example usage\n",
    "num = 19\n",
    "if is_happy_number(num):\n",
    "    print(num, \"is a Happy Number\")\n",
    "else:\n",
    "    print(num, \"is not a Happy Number\")\n"
   ]
  },
  {
   "cell_type": "code",
   "execution_count": 6,
   "id": "bb3e7771",
   "metadata": {},
   "outputs": [
    {
     "name": "stdout",
     "output_type": "stream",
     "text": [
      "Happy numbers between 1 and 100:\n",
      "[1, 7, 10, 13, 19, 23, 28, 31, 32, 44, 49, 68, 70, 79, 82, 86, 91, 94, 97, 100]\n"
     ]
    }
   ],
   "source": [
    "#Write a Python program to print all happy numbers between 1 and 100?\n",
    "def is_happy_number(number):\n",
    "    visited = set()\n",
    "\n",
    "    while number != 1 and number not in visited:\n",
    "        visited.add(number)\n",
    "        number = sum(int(digit) ** 2 for digit in str(number))\n",
    "\n",
    "    return number == 1\n",
    "\n",
    "# Find and print Happy numbers between 1 and 100\n",
    "happy_numbers = []\n",
    "for num in range(1, 101):\n",
    "    if is_happy_number(num):\n",
    "        happy_numbers.append(num)\n",
    "\n",
    "print(\"Happy numbers between 1 and 100:\")\n",
    "print(happy_numbers)\n"
   ]
  },
  {
   "cell_type": "code",
   "execution_count": 7,
   "id": "b6d5d050",
   "metadata": {},
   "outputs": [
    {
     "name": "stdout",
     "output_type": "stream",
     "text": [
      "18 is a Harshad Number\n"
     ]
    }
   ],
   "source": [
    "#Write a Python program to determine whether the given number is a Harshad Number?\n",
    "def is_harshad_number(number):\n",
    "    sum_of_digits = sum(int(digit) for digit in str(number))\n",
    "    return number % sum_of_digits == 0\n",
    "\n",
    "# Example usage\n",
    "num = 18\n",
    "if is_harshad_number(num):\n",
    "    print(num, \"is a Harshad Number\")\n",
    "else:\n",
    "    print(num, \"is not a Harshad Number\")\n"
   ]
  },
  {
   "cell_type": "code",
   "execution_count": 8,
   "id": "4167ad31",
   "metadata": {},
   "outputs": [
    {
     "name": "stdout",
     "output_type": "stream",
     "text": [
      "Pronic numbers between 1 and 100:\n",
      "[2, 6, 12, 20, 30, 42, 56, 72, 90]\n"
     ]
    }
   ],
   "source": [
    "#Write a Python program to print all pronic numbers between 1 and 100?\n",
    "def is_pronic_number(number):\n",
    "    for i in range(1, number):\n",
    "        if i * (i + 1) == number:\n",
    "            return True\n",
    "    return False\n",
    "\n",
    "# Find and print pronic numbers between 1 and 100\n",
    "pronic_numbers = []\n",
    "for num in range(1, 101):\n",
    "    if is_pronic_number(num):\n",
    "        pronic_numbers.append(num)\n",
    "\n",
    "print(\"Pronic numbers between 1 and 100:\")\n",
    "print(pronic_numbers)\n"
   ]
  },
  {
   "cell_type": "code",
   "execution_count": null,
   "id": "8c018ab9",
   "metadata": {},
   "outputs": [],
   "source": []
  }
 ],
 "metadata": {
  "kernelspec": {
   "display_name": "Python 3 (ipykernel)",
   "language": "python",
   "name": "python3"
  },
  "language_info": {
   "codemirror_mode": {
    "name": "ipython",
    "version": 3
   },
   "file_extension": ".py",
   "mimetype": "text/x-python",
   "name": "python",
   "nbconvert_exporter": "python",
   "pygments_lexer": "ipython3",
   "version": "3.10.9"
  }
 },
 "nbformat": 4,
 "nbformat_minor": 5
}
