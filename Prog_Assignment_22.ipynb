{
 "cells": [
  {
   "cell_type": "code",
   "execution_count": 1,
   "id": "3bacf955",
   "metadata": {},
   "outputs": [
    {
     "name": "stdout",
     "output_type": "stream",
     "text": [
      "[3, 6, 9]\n",
      "[8]\n",
      "[]\n"
     ]
    }
   ],
   "source": [
    "#Q1\n",
    "\n",
    "def list_operation(x, y, n):\n",
    "    return [num for num in range(x, y + 1) if num % n == 0]\n",
    "\n",
    "print(list_operation(1, 10, 3))\n",
    "# Output: [3, 6, 9]\n",
    "\n",
    "print(list_operation(7, 9, 2))\n",
    "# Output: [8]\n",
    "\n",
    "print(list_operation(15, 20, 7))\n",
    "# Output: []\n",
    "\n"
   ]
  },
  {
   "cell_type": "code",
   "execution_count": 2,
   "id": "9d04f2d8",
   "metadata": {},
   "outputs": [
    {
     "name": "stdout",
     "output_type": "stream",
     "text": [
      "True\n",
      "False\n",
      "True\n",
      "False\n"
     ]
    }
   ],
   "source": [
    "#Q2\n",
    "\n",
    "def simon_says(list1, list2):\n",
    "    return list1[:-1] == list2[1:]\n",
    "\n",
    "print(simon_says([1, 2], [5, 1]))\n",
    "# Output: True\n",
    "\n",
    "print(simon_says([1, 2], [5, 5]))\n",
    "# Output: False\n",
    "\n",
    "print(simon_says([1, 2, 3, 4, 5], [0, 1, 2, 3, 4]))\n",
    "# Output: True\n",
    "\n",
    "print(simon_says([1, 2, 3, 4, 5], [5, 5, 1, 2, 3]))\n",
    "# Output: False\n"
   ]
  },
  {
   "cell_type": "code",
   "execution_count": 3,
   "id": "6d067933",
   "metadata": {},
   "outputs": [
    {
     "name": "stdout",
     "output_type": "stream",
     "text": [
      "AMS\n",
      "CHLN\n",
      "CJMPRR\n"
     ]
    }
   ],
   "source": [
    "#Q3\n",
    "\n",
    "def society_name(names):\n",
    "    initials = [name[0] for name in names]\n",
    "    return ''.join(sorted(initials))\n",
    "\n",
    "print(society_name([\"Adam\", \"Sarah\", \"Malcolm\"]))\n",
    "# Output: \"AMS\"\n",
    "\n",
    "print(society_name([\"Harry\", \"Newt\", \"Luna\", \"Cho\"]))\n",
    "# Output: \"CHLN\"\n",
    "\n",
    "print(society_name([\"Phoebe\", \"Chandler\", \"Rachel\", \"Ross\", \"Monica\", \"Joey\"]))\n",
    "# Output: \"CCJMMR\"\n"
   ]
  },
  {
   "cell_type": "code",
   "execution_count": 4,
   "id": "a37b8973",
   "metadata": {},
   "outputs": [
    {
     "name": "stdout",
     "output_type": "stream",
     "text": [
      "True\n",
      "False\n",
      "False\n"
     ]
    }
   ],
   "source": [
    "#Q4\n",
    "\n",
    "def is_isogram(word):\n",
    "    word = word.lower()\n",
    "    return len(set(word)) == len(word)\n",
    "\n",
    "print(is_isogram(\"Algorism\"))\n",
    "# Output: True\n",
    "\n",
    "print(is_isogram(\"PasSword\"))\n",
    "# Output: False\n",
    "\n",
    "print(is_isogram(\"Consecutive\"))\n",
    "# Output: False\n"
   ]
  },
  {
   "cell_type": "code",
   "execution_count": 5,
   "id": "bb7b807a",
   "metadata": {},
   "outputs": [
    {
     "name": "stdout",
     "output_type": "stream",
     "text": [
      "True\n",
      "False\n",
      "True\n",
      "True\n"
     ]
    }
   ],
   "source": [
    "#Q5\n",
    "\n",
    "def is_in_order(s):\n",
    "    for i in range(len(s) - 1):\n",
    "        if ord(s[i]) > ord(s[i + 1]):\n",
    "            return False\n",
    "    return True\n",
    "\n",
    "print(is_in_order(\"abc\"))\n",
    "# Output: True\n",
    "\n",
    "print(is_in_order(\"edabit\"))\n",
    "# Output: False\n",
    "\n",
    "print(is_in_order(\"123\"))\n",
    "# Output: True\n",
    "\n",
    "print(is_in_order(\"xyzz\"))\n",
    "# Output: True\n"
   ]
  },
  {
   "cell_type": "code",
   "execution_count": null,
   "id": "1e026a70",
   "metadata": {},
   "outputs": [],
   "source": []
  }
 ],
 "metadata": {
  "kernelspec": {
   "display_name": "Python 3 (ipykernel)",
   "language": "python",
   "name": "python3"
  },
  "language_info": {
   "codemirror_mode": {
    "name": "ipython",
    "version": 3
   },
   "file_extension": ".py",
   "mimetype": "text/x-python",
   "name": "python",
   "nbconvert_exporter": "python",
   "pygments_lexer": "ipython3",
   "version": "3.10.9"
  }
 },
 "nbformat": 4,
 "nbformat_minor": 5
}
