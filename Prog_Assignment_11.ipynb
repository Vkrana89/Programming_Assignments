{
 "cells": [
  {
   "cell_type": "code",
   "execution_count": 1,
   "id": "fb5e511d",
   "metadata": {},
   "outputs": [
    {
     "name": "stdout",
     "output_type": "stream",
     "text": [
      "['banana', 'cherry', 'durian', 'elderberry']\n"
     ]
    }
   ],
   "source": [
    "#Write a Python program to find words which are greater than given length k?\n",
    "def find_long_words(word_list, k):\n",
    "    long_words = []\n",
    "    for word in word_list:\n",
    "        if len(word) > k:\n",
    "            long_words.append(word)\n",
    "    return long_words\n",
    "\n",
    "# Example usage:\n",
    "words = [\"apple\", \"banana\", \"cherry\", \"durian\", \"elderberry\"]\n",
    "length_threshold = 5\n",
    "result = find_long_words(words, length_threshold)\n",
    "print(result)\n"
   ]
  },
  {
   "cell_type": "code",
   "execution_count": 2,
   "id": "7fcbe036",
   "metadata": {},
   "outputs": [
    {
     "name": "stdout",
     "output_type": "stream",
     "text": [
      "Hello, orld!\n"
     ]
    }
   ],
   "source": [
    "#Write a Python program for removing i-th character from a string?\n",
    "def remove_character(string, i):\n",
    "    if i < 0 or i >= len(string):\n",
    "        return string\n",
    "    return string[:i] + string[i+1:]\n",
    "\n",
    "# Example usage:\n",
    "input_string = \"Hello, World!\"\n",
    "index_to_remove = 7\n",
    "result = remove_character(input_string, index_to_remove)\n",
    "print(result)\n"
   ]
  },
  {
   "cell_type": "code",
   "execution_count": 8,
   "id": "d564a311",
   "metadata": {},
   "outputs": [
    {
     "name": "stdout",
     "output_type": "stream",
     "text": [
      "After splitting: Hello, World!\n",
      "After joining: Hello, World!\n"
     ]
    }
   ],
   "source": [
    "#Write a Python program to split and join a string?\n",
    "def split_and_join(string, delimiter):\n",
    "    # Split the string into a list of substrings\n",
    "    substrings = string.split(delimiter)\n",
    "\n",
    "    # Join the substrings into a single string\n",
    "    new_string = delimiter.join(substrings)\n",
    "\n",
    "    return new_string\n",
    "\n",
    "# Example usage:\n",
    "input_string = \"Hello, World!\"\n",
    "split_delimiter = \" , \"\n",
    "join_delimiter = \" \"\n",
    "split_result = split_and_join(input_string, split_delimiter)\n",
    "join_result = split_and_join(split_result, join_delimiter)\n",
    "\n",
    "print(\"After splitting:\", split_result)\n",
    "print(\"After joining:\", join_result)\n"
   ]
  },
  {
   "cell_type": "code",
   "execution_count": 9,
   "id": "6b23a06c",
   "metadata": {},
   "outputs": [
    {
     "name": "stdout",
     "output_type": "stream",
     "text": [
      "The string is a binary string.\n"
     ]
    }
   ],
   "source": [
    "#Write a Python to check if a given string is binary string or not?\n",
    "def is_binary_string(string):\n",
    "    for char in string:\n",
    "        if char != '0' and char != '1':\n",
    "            return False\n",
    "    return True\n",
    "\n",
    "# Example usage:\n",
    "input_string = \"101010101\"\n",
    "result = is_binary_string(input_string)\n",
    "if result:\n",
    "    print(\"The string is a binary string.\")\n",
    "else:\n",
    "    print(\"The string is not a binary string.\")\n"
   ]
  },
  {
   "cell_type": "code",
   "execution_count": 10,
   "id": "a3a5c6a9",
   "metadata": {},
   "outputs": [
    {
     "name": "stdout",
     "output_type": "stream",
     "text": [
      "Uncommon words: {'world', 'everyone'}\n"
     ]
    }
   ],
   "source": [
    "#Write a Python program to find uncommon words from two Strings?\n",
    "def find_uncommon_words(string1, string2):\n",
    "    words1 = string1.split()\n",
    "    words2 = string2.split()\n",
    "    \n",
    "    uncommon_words = set(words1).symmetric_difference(set(words2))\n",
    "    \n",
    "    return uncommon_words\n",
    "\n",
    "# Example usage:\n",
    "string1 = \"Hello world\"\n",
    "string2 = \"Hello everyone\"\n",
    "uncommon_words = find_uncommon_words(string1, string2)\n",
    "print(\"Uncommon words:\", uncommon_words)\n"
   ]
  },
  {
   "cell_type": "code",
   "execution_count": 11,
   "id": "97a01c42",
   "metadata": {},
   "outputs": [
    {
     "name": "stdout",
     "output_type": "stream",
     "text": [
      "Duplicate characters: ['l', 'o']\n"
     ]
    }
   ],
   "source": [
    "#Write a Python to find all duplicate characters in string?\n",
    "def find_duplicate_characters(string):\n",
    "    # Create an empty dictionary to store character frequencies\n",
    "    char_frequency = {}\n",
    "\n",
    "    # Iterate over each character in the string\n",
    "    for char in string:\n",
    "        # Update the frequency of the character in the dictionary\n",
    "        char_frequency[char] = char_frequency.get(char, 0) + 1\n",
    "\n",
    "    # Find the characters with frequency greater than 1\n",
    "    duplicate_chars = [char for char, frequency in char_frequency.items() if frequency > 1]\n",
    "\n",
    "    return duplicate_chars\n",
    "\n",
    "# Example usage:\n",
    "input_string = \"Hello, World!\"\n",
    "result = find_duplicate_characters(input_string)\n",
    "print(\"Duplicate characters:\", result)\n"
   ]
  },
  {
   "cell_type": "code",
   "execution_count": 12,
   "id": "16153fae",
   "metadata": {},
   "outputs": [
    {
     "name": "stdout",
     "output_type": "stream",
     "text": [
      "The string contains special characters.\n"
     ]
    }
   ],
   "source": [
    "#Write a Python Program to check if a string contains any special character?\n",
    "import re\n",
    "\n",
    "def contains_special_character(string):\n",
    "    special_characters_regex = re.compile(r'[^a-zA-Z0-9\\s]')\n",
    "    return bool(special_characters_regex.search(string))\n",
    "\n",
    "# Example usage:\n",
    "input_string = \"Hello, World!\"\n",
    "result = contains_special_character(input_string)\n",
    "if result:\n",
    "    print(\"The string contains special characters.\")\n",
    "else:\n",
    "    print(\"The string does not contain special characters.\")\n"
   ]
  },
  {
   "cell_type": "code",
   "execution_count": null,
   "id": "24e9df64",
   "metadata": {},
   "outputs": [],
   "source": []
  }
 ],
 "metadata": {
  "kernelspec": {
   "display_name": "Python 3 (ipykernel)",
   "language": "python",
   "name": "python3"
  },
  "language_info": {
   "codemirror_mode": {
    "name": "ipython",
    "version": 3
   },
   "file_extension": ".py",
   "mimetype": "text/x-python",
   "name": "python",
   "nbconvert_exporter": "python",
   "pygments_lexer": "ipython3",
   "version": "3.10.9"
  }
 },
 "nbformat": 4,
 "nbformat_minor": 5
}
