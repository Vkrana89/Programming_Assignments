{
 "cells": [
  {
   "cell_type": "code",
   "execution_count": 5,
   "id": "3bacf955",
   "metadata": {},
   "outputs": [
    {
     "name": "stdout",
     "output_type": "stream",
     "text": [
      "[6, 7, 8, 9, 1]\n",
      "[6, 3, 23, 17, 10]\n",
      "[10, 20, 42, 6]\n",
      "No list has been selected\n"
     ]
    }
   ],
   "source": [
    "#Q1\n",
    "\n",
    "def next_in_line(lst, num):\n",
    "    if not lst:\n",
    "        return \"No list has been selected\"\n",
    "    lst.append(num)\n",
    "    lst.pop(0)\n",
    "    return lst\n",
    "\n",
    "print(next_in_line([5, 6, 7, 8, 9], 1))\n",
    "# Output: [6, 7, 8, 9, 1]\n",
    "\n",
    "print(next_in_line([7, 6, 3, 23, 17], 10))\n",
    "# Output: [6, 3, 23, 17, 10]\n",
    "\n",
    "print(next_in_line([1, 10, 20, 42 ], 6))\n",
    "# Output: [10, 20, 42, 6]\n",
    "\n",
    "print(next_in_line([], 6))\n",
    "# Output: \"No list has been selected\"\n"
   ]
  },
  {
   "cell_type": "code",
   "execution_count": 6,
   "id": "6bc9b618",
   "metadata": {},
   "outputs": [
    {
     "name": "stdout",
     "output_type": "stream",
     "text": [
      "65700\n",
      "62600\n"
     ]
    }
   ],
   "source": [
    "#Q2\n",
    "\n",
    "def get_budgets(lst):\n",
    "    return sum(d['budget'] for d in lst)\n",
    "\n",
    "budgets1 = [\n",
    "    {\"name\": \"John\", \"age\": 21, \"budget\": 23000},\n",
    "    {\"name\": \"Steve\", \"age\": 32, \"budget\": 40000},\n",
    "    {\"name\": \"Martin\", \"age\": 16, \"budget\": 2700}\n",
    "]\n",
    "print(get_budgets(budgets1))\n",
    "# Output: 65700\n",
    "\n",
    "budgets2 = [\n",
    "    {\"name\": \"John\", \"age\": 21, \"budget\": 29000},\n",
    "    {\"name\": \"Steve\", \"age\": 32, \"budget\": 32000},\n",
    "    {\"name\": \"Martin\", \"age\": 16, \"budget\": 1600}\n",
    "]\n",
    "print(get_budgets(budgets2))\n",
    "# Output: 62600\n"
   ]
  },
  {
   "cell_type": "code",
   "execution_count": 7,
   "id": "4ab0716b",
   "metadata": {},
   "outputs": [
    {
     "name": "stdout",
     "output_type": "stream",
     "text": [
      "ehllo\n",
      "abdeit\n",
      "acehkr\n",
      "eegk\n",
      "aacijprstv\n"
     ]
    }
   ],
   "source": [
    "#Q3\n",
    "\n",
    "def alphabet_soup(txt):\n",
    "    return ''.join(sorted(txt))\n",
    "\n",
    "print(alphabet_soup(\"hello\"))\n",
    "# Output: \"ehllo\"\n",
    "\n",
    "print(alphabet_soup(\"edabit\"))\n",
    "# Output: \"abdeit\"\n",
    "\n",
    "print(alphabet_soup(\"hacker\"))\n",
    "# Output: \"acehkr\"\n",
    "\n",
    "print(alphabet_soup(\"geek\"))\n",
    "# Output: \"eegk\"\n",
    "\n",
    "print(alphabet_soup(\"javascript\"))\n",
    "# Output: \"aacijprstv\"\n"
   ]
  },
  {
   "cell_type": "code",
   "execution_count": 8,
   "id": "34841c2d",
   "metadata": {},
   "outputs": [
    {
     "name": "stdout",
     "output_type": "stream",
     "text": [
      "105.0\n",
      "15399.26\n",
      "2007316.26\n",
      "18193.97\n"
     ]
    }
   ],
   "source": [
    "#Q4\n",
    "\n",
    "def compound_interest(p, t, r, n):\n",
    "    A = p * (1 + r/n)**(n*t)\n",
    "    return round(A, 2)\n",
    "\n",
    "print(compound_interest(100, 1, 0.05, 1))\n",
    "# Output: 105.0\n",
    "\n",
    "print(compound_interest(3500, 15, 0.1, 4))\n",
    "# Output: 15399.26\n",
    "\n",
    "print(compound_interest(100000, 20, 0.15, 365))\n",
    "# Output: 2007316.26\n",
    "\n",
    "print(compound_interest(10000, 10, 0.06, 12))\n",
    "# Output: 18193.97\n"
   ]
  },
  {
   "cell_type": "code",
   "execution_count": 9,
   "id": "f9198a16",
   "metadata": {},
   "outputs": [
    {
     "name": "stdout",
     "output_type": "stream",
     "text": [
      "[9, 2, 16]\n",
      "[81, 123]\n",
      "[10, 56, 20, 3]\n",
      "[True, 1]\n"
     ]
    }
   ],
   "source": [
    "#Q5\n",
    "\n",
    "def return_only_integer(lst):\n",
    "    return [x for x in lst if isinstance(x, int)]\n",
    "\n",
    "print(return_only_integer([9, 2, \"space\", \"car\", \"lion\", 16]))\n",
    "# Output: [9, 2, 16]\n",
    "\n",
    "print(return_only_integer([\"hello\", 81, \"basketball\", 123, \"fox\"]))\n",
    "# Output: [81, 123]\n",
    "\n",
    "print(return_only_integer([10, \"121\", 56, 20, \"car\", 3, \"lion\"]))\n",
    "# Output: [10, 56, 20, 3]\n",
    "\n",
    "print(return_only_integer([\"String\", True, 3.3, 1]))\n",
    "# Output: [1]\n"
   ]
  },
  {
   "cell_type": "code",
   "execution_count": null,
   "id": "adfa63d1",
   "metadata": {},
   "outputs": [],
   "source": []
  }
 ],
 "metadata": {
  "kernelspec": {
   "display_name": "Python 3 (ipykernel)",
   "language": "python",
   "name": "python3"
  },
  "language_info": {
   "codemirror_mode": {
    "name": "ipython",
    "version": 3
   },
   "file_extension": ".py",
   "mimetype": "text/x-python",
   "name": "python",
   "nbconvert_exporter": "python",
   "pygments_lexer": "ipython3",
   "version": "3.10.9"
  }
 },
 "nbformat": 4,
 "nbformat_minor": 5
}
