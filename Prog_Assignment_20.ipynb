{
 "cells": [
  {
   "cell_type": "code",
   "execution_count": 5,
   "id": "3bacf955",
   "metadata": {},
   "outputs": [
    {
     "name": "stdout",
     "output_type": "stream",
     "text": [
      "[1, 2, 3, 4]\n",
      "[0, 1729]\n",
      "[]\n"
     ]
    }
   ],
   "source": [
    "#Q1\n",
    "\n",
    "def filter_list(lst):\n",
    "    return [element for element in lst if isinstance(element, int)]\n",
    "\n",
    "print(filter_list([1, 2, 3, \"a\", \"b\", 4]))\n",
    "# Output: [1, 2, 3, 4]\n",
    "\n",
    "print(filter_list([\"A\", 0, \"Edabit\", 1729, \"Python\", \"1729\"]))\n",
    "# Output: [0, 1729]\n",
    "\n",
    "print(filter_list([\"Nothing\", \"here\"]))\n",
    "# Output: []\n"
   ]
  },
  {
   "cell_type": "code",
   "execution_count": 6,
   "id": "6fad68ea",
   "metadata": {},
   "outputs": [
    {
     "name": "stdout",
     "output_type": "stream",
     "text": [
      "[0, 1, 2, 3, 4]\n",
      "[1, 3, 5, 7, 9]\n",
      "[5, 5, 5, 5, 5]\n"
     ]
    }
   ],
   "source": [
    "#Q2\n",
    "\n",
    "def add_indexes(lst):\n",
    "    return [element + index for index, element in enumerate(lst)]\n",
    "\n",
    "print(add_indexes([0, 0, 0, 0, 0]))\n",
    "# Output: [0, 1, 2, 3, 4]\n",
    "\n",
    "print(add_indexes([1, 2, 3, 4, 5]))\n",
    "# Output: [1, 3, 5, 7, 9]\n",
    "\n",
    "print(add_indexes([5, 4, 3, 2, 1]))\n",
    "# Output: [5, 5, 5, 5, 5]\n"
   ]
  },
  {
   "cell_type": "code",
   "execution_count": 7,
   "id": "9da1dd46",
   "metadata": {},
   "outputs": [
    {
     "name": "stdout",
     "output_type": "stream",
     "text": [
      "12.57\n",
      "565.49\n",
      "0.0\n"
     ]
    }
   ],
   "source": [
    "#Q3\n",
    "\n",
    "import math\n",
    "\n",
    "def cone_volume(height, radius):\n",
    "    volume = (1/3) * math.pi * radius**2 * height\n",
    "    return round(volume, 2)\n",
    "print(cone_volume(3, 2))\n",
    "# Output: 12.57\n",
    "\n",
    "print(cone_volume(15, 6))\n",
    "# Output: 565.49\n",
    "\n",
    "print(cone_volume(18, 0))\n",
    "# Output: 0.0\n"
   ]
  },
  {
   "cell_type": "code",
   "execution_count": 8,
   "id": "e9da26d2",
   "metadata": {},
   "outputs": [
    {
     "name": "stdout",
     "output_type": "stream",
     "text": [
      "1\n",
      "21\n",
      "23220\n"
     ]
    }
   ],
   "source": [
    "#Q4\n",
    "\n",
    "def triangle(n):\n",
    "    dots = sum(range(1, n + 1))\n",
    "    return dots\n",
    "\n",
    "print(triangle(1))\n",
    "# Output: 1\n",
    "\n",
    "print(triangle(6))\n",
    "# Output: 21\n",
    "\n",
    "print(triangle(215))\n",
    "# Output: 23220\n"
   ]
  },
  {
   "cell_type": "code",
   "execution_count": 9,
   "id": "f1b4a99e",
   "metadata": {},
   "outputs": [
    {
     "name": "stdout",
     "output_type": "stream",
     "text": [
      "5\n",
      "10\n",
      "7\n"
     ]
    }
   ],
   "source": [
    "#Q5\n",
    "\n",
    "def missing_num(nums):\n",
    "    expected_sum = sum(range(1, 11))\n",
    "    actual_sum = sum(nums)\n",
    "    missing_number = expected_sum - actual_sum\n",
    "    return missing_number\n",
    "\n",
    "print(missing_num([1, 2, 3, 4, 6, 7, 8, 9, 10]))\n",
    "# Output: 5\n",
    "\n",
    "print(missing_num([7, 2, 3, 6, 5, 9, 1, 4, 8]))\n",
    "# Output: 10\n",
    "\n",
    "print(missing_num([10, 5, 1, 2, 4, 6, 8, 3, 9]))\n",
    "# Output: 7\n"
   ]
  },
  {
   "cell_type": "code",
   "execution_count": null,
   "id": "cd96464f",
   "metadata": {},
   "outputs": [],
   "source": []
  }
 ],
 "metadata": {
  "kernelspec": {
   "display_name": "Python 3 (ipykernel)",
   "language": "python",
   "name": "python3"
  },
  "language_info": {
   "codemirror_mode": {
    "name": "ipython",
    "version": 3
   },
   "file_extension": ".py",
   "mimetype": "text/x-python",
   "name": "python",
   "nbconvert_exporter": "python",
   "pygments_lexer": "ipython3",
   "version": "3.10.9"
  }
 },
 "nbformat": 4,
 "nbformat_minor": 5
}
