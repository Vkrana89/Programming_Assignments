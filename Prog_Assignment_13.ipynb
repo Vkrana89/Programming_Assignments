{
 "cells": [
  {
   "cell_type": "code",
   "execution_count": 1,
   "id": "c1f9d6e3",
   "metadata": {},
   "outputs": [
    {
     "name": "stdout",
     "output_type": "stream",
     "text": [
      "18,22,24\n"
     ]
    }
   ],
   "source": [
    "#Q1\n",
    "\n",
    "import math\n",
    "\n",
    "def calculate_values(input_sequence):\n",
    "    results = []\n",
    "    C = 50\n",
    "    H = 30\n",
    "    values = input_sequence.split(',')\n",
    "\n",
    "    for value in values:\n",
    "        D = int(value)\n",
    "        Q = int(math.sqrt((2 * C * D) / H))\n",
    "        results.append(Q)\n",
    "\n",
    "    return results\n",
    "\n",
    "# Example usage:\n",
    "input_sequence = \"100,150,180\"\n",
    "result = calculate_values(input_sequence)\n",
    "print(\",\".join(str(x) for x in result))\n"
   ]
  },
  {
   "cell_type": "code",
   "execution_count": 2,
   "id": "c39790bb",
   "metadata": {},
   "outputs": [
    {
     "name": "stdout",
     "output_type": "stream",
     "text": [
      "[[0, 0, 0, 0, 0], [0, 1, 2, 3, 4], [0, 2, 4, 6, 8]]\n"
     ]
    }
   ],
   "source": [
    "#Q2\n",
    "\n",
    "def generate_2d_array(X, Y):\n",
    "    result = []\n",
    "    for i in range(X):\n",
    "        row = []\n",
    "        for j in range(Y):\n",
    "            row.append(i * j)\n",
    "        result.append(row)\n",
    "    return result\n",
    "\n",
    "# Example usage:\n",
    "X = 3\n",
    "Y = 5\n",
    "result = generate_2d_array(X, Y)\n",
    "print(result)\n"
   ]
  },
  {
   "cell_type": "code",
   "execution_count": 3,
   "id": "9d70a90d",
   "metadata": {},
   "outputs": [
    {
     "name": "stdout",
     "output_type": "stream",
     "text": [
      "bag,hello,without,world\n"
     ]
    }
   ],
   "source": [
    "#Q3\n",
    "\n",
    "def sort_words(input_sequence):\n",
    "    words = input_sequence.split(',')\n",
    "    sorted_words = sorted(words)\n",
    "    return ','.join(sorted_words)\n",
    "\n",
    "# Example usage:\n",
    "input_sequence = \"without,hello,bag,world\"\n",
    "result = sort_words(input_sequence)\n",
    "print(result)\n"
   ]
  },
  {
   "cell_type": "code",
   "execution_count": 4,
   "id": "48b39e6f",
   "metadata": {},
   "outputs": [
    {
     "name": "stdout",
     "output_type": "stream",
     "text": [
      "again and hello makes perfect practice world\n"
     ]
    }
   ],
   "source": [
    "#Q4\n",
    "\n",
    "def remove_duplicates_and_sort(input_sequence):\n",
    "    words = input_sequence.split()\n",
    "    unique_words = list(set(words))\n",
    "    sorted_words = sorted(unique_words)\n",
    "    return ' '.join(sorted_words)\n",
    "\n",
    "# Example usage:\n",
    "input_sequence = \"hello world and practice makes perfect and hello world again\"\n",
    "result = remove_duplicates_and_sort(input_sequence)\n",
    "print(result)\n"
   ]
  },
  {
   "cell_type": "code",
   "execution_count": 5,
   "id": "d286111c",
   "metadata": {},
   "outputs": [
    {
     "name": "stdout",
     "output_type": "stream",
     "text": [
      "LETTERS 10\n",
      "DIGITS 3\n"
     ]
    }
   ],
   "source": [
    "#Q5\n",
    "\n",
    "def count_letters_digits(sentence):\n",
    "    letters = 0\n",
    "    digits = 0\n",
    "\n",
    "    for char in sentence:\n",
    "        if char.isalpha():\n",
    "            letters += 1\n",
    "        elif char.isdigit():\n",
    "            digits += 1\n",
    "\n",
    "    return letters, digits\n",
    "\n",
    "# Example usage:\n",
    "input_sentence = \"hello world! 123\"\n",
    "letter_count, digit_count = count_letters_digits(input_sentence)\n",
    "print(\"LETTERS\", letter_count)\n",
    "print(\"DIGITS\", digit_count)\n"
   ]
  },
  {
   "cell_type": "code",
   "execution_count": 6,
   "id": "e9a64538",
   "metadata": {},
   "outputs": [
    {
     "name": "stdout",
     "output_type": "stream",
     "text": [
      "ABd1234@1\n"
     ]
    }
   ],
   "source": [
    "#Q6\n",
    "\n",
    "import re\n",
    "\n",
    "def check_password_validity(password):\n",
    "    if len(password) < 6 or len(password) > 12:\n",
    "        return False\n",
    "    if not re.search(\"[a-z]\", password):\n",
    "        return False\n",
    "    if not re.search(\"[0-9]\", password):\n",
    "        return False\n",
    "    if not re.search(\"[A-Z]\", password):\n",
    "        return False\n",
    "    if not re.search(\"[$#@]\", password):\n",
    "        return False\n",
    "    return True\n",
    "\n",
    "# Example usage:\n",
    "passwords = \"ABd1234@1,aF1#,2w3E*,2We3345\"\n",
    "valid_passwords = []\n",
    "\n",
    "password_list = passwords.split(\",\")\n",
    "for password in password_list:\n",
    "    if check_password_validity(password):\n",
    "        valid_passwords.append(password)\n",
    "\n",
    "result = \",\".join(valid_passwords)\n",
    "print(result)\n"
   ]
  },
  {
   "cell_type": "code",
   "execution_count": null,
   "id": "d15ac97e",
   "metadata": {},
   "outputs": [],
   "source": []
  }
 ],
 "metadata": {
  "kernelspec": {
   "display_name": "Python 3 (ipykernel)",
   "language": "python",
   "name": "python3"
  },
  "language_info": {
   "codemirror_mode": {
    "name": "ipython",
    "version": 3
   },
   "file_extension": ".py",
   "mimetype": "text/x-python",
   "name": "python",
   "nbconvert_exporter": "python",
   "pygments_lexer": "ipython3",
   "version": "3.10.9"
  }
 },
 "nbformat": 4,
 "nbformat_minor": 5
}
