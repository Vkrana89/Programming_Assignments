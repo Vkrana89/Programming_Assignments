{
 "cells": [
  {
   "cell_type": "code",
   "execution_count": 6,
   "id": "3bacf955",
   "metadata": {},
   "outputs": [
    {
     "name": "stdout",
     "output_type": "stream",
     "text": [
      "SSttrriinngg\n",
      "HHeelllloo  WWoorrlldd!!\n",
      "11223344!!__  \n"
     ]
    }
   ],
   "source": [
    "#Q1\n",
    "\n",
    "def double_char(txt):\n",
    "    return ''.join([char * 2 for char in txt])\n",
    "print(double_char(\"String\"))\n",
    "# Output: \"SSttrriinngg\"\n",
    "\n",
    "print(double_char(\"Hello World!\"))\n",
    "# Output: \"HHeelllloo WWoorrlldd!!\"\n",
    "\n",
    "print(double_char(\"1234!_ \"))\n",
    "# Output: \"11223344!!__ \"\n"
   ]
  },
  {
   "cell_type": "code",
   "execution_count": 7,
   "id": "087abf40",
   "metadata": {},
   "outputs": [
    {
     "name": "stdout",
     "output_type": "stream",
     "text": [
      "False\n",
      "True\n",
      "boolean expected\n",
      "boolean expected\n"
     ]
    }
   ],
   "source": [
    "#Q2\n",
    "\n",
    "def reverse(arg):\n",
    "    if isinstance(arg, bool):\n",
    "        return not arg\n",
    "    else:\n",
    "        return \"boolean expected\"\n",
    "print(reverse(True))\n",
    "# Output: False\n",
    "\n",
    "print(reverse(False))\n",
    "# Output: True\n",
    "\n",
    "print(reverse(0))\n",
    "# Output: \"boolean expected\"\n",
    "\n",
    "print(reverse(None))\n",
    "# Output: \"boolean expected\"\n"
   ]
  },
  {
   "cell_type": "code",
   "execution_count": 8,
   "id": "46b76812",
   "metadata": {},
   "outputs": [
    {
     "name": "stdout",
     "output_type": "stream",
     "text": [
      "0.001m\n",
      "0.008m\n",
      "1048.576m\n"
     ]
    }
   ],
   "source": [
    "#Q3\n",
    "\n",
    "def num_layers(num_folds):\n",
    "    initial_thickness_mm = 0.5\n",
    "    thickness_m = initial_thickness_mm / 1000  # Convert mm to meters\n",
    "    folded_thickness_m = thickness_m * (2 ** num_folds)\n",
    "    return \"{:.3f}m\".format(folded_thickness_m)\n",
    "print(num_layers(1))\n",
    "# Output: \"0.001m\"\n",
    "\n",
    "print(num_layers(4))\n",
    "# Output: \"0.008m\"\n",
    "\n",
    "print(num_layers(21))\n",
    "# Output: \"1048.576m\"\n"
   ]
  },
  {
   "cell_type": "code",
   "execution_count": 9,
   "id": "cf378047",
   "metadata": {},
   "outputs": [
    {
     "name": "stdout",
     "output_type": "stream",
     "text": [
      "[1, 3, 5]\n",
      "[1, 3, 4, 6]\n",
      "[]\n",
      "[0, 1, 2, 3, 4, 5]\n",
      "[1]\n"
     ]
    }
   ],
   "source": [
    "#Q4\n",
    "\n",
    "def index_of_caps(string):\n",
    "    indices = []\n",
    "    for index, char in enumerate(string):\n",
    "        if char.isupper():\n",
    "            indices.append(index)\n",
    "    return indices\n",
    "print(index_of_caps(\"eDaBiT\"))\n",
    "# Output: [1, 3, 5]\n",
    "\n",
    "print(index_of_caps(\"eQuINoX\"))\n",
    "# Output: [1, 3, 4, 6]\n",
    "\n",
    "print(index_of_caps(\"determine\"))\n",
    "# Output: []\n",
    "\n",
    "print(index_of_caps(\"STRIKE\"))\n",
    "# Output: [0, 1, 2, 3, 4, 5]\n",
    "\n",
    "print(index_of_caps(\"sUn\"))\n",
    "# Output: [1]\n"
   ]
  },
  {
   "cell_type": "code",
   "execution_count": 10,
   "id": "67839b96",
   "metadata": {},
   "outputs": [
    {
     "name": "stdout",
     "output_type": "stream",
     "text": [
      "[2, 4, 6, 8]\n",
      "[2, 4]\n",
      "[2]\n"
     ]
    }
   ],
   "source": [
    "#Q5\n",
    "\n",
    "def find_even_nums(n):\n",
    "    return [num for num in range(1, n+1) if num % 2 == 0]\n",
    "\n",
    "print(find_even_nums(8))\n",
    "# Output: [2, 4, 6, 8]\n",
    "\n",
    "print(find_even_nums(4))\n",
    "# Output: [2, 4]\n",
    "\n",
    "print(find_even_nums(2))\n",
    "# Output: [2]\n"
   ]
  },
  {
   "cell_type": "code",
   "execution_count": null,
   "id": "cd9cbcbf",
   "metadata": {},
   "outputs": [],
   "source": []
  }
 ],
 "metadata": {
  "kernelspec": {
   "display_name": "Python 3 (ipykernel)",
   "language": "python",
   "name": "python3"
  },
  "language_info": {
   "codemirror_mode": {
    "name": "ipython",
    "version": 3
   },
   "file_extension": ".py",
   "mimetype": "text/x-python",
   "name": "python",
   "nbconvert_exporter": "python",
   "pygments_lexer": "ipython3",
   "version": "3.10.9"
  }
 },
 "nbformat": 4,
 "nbformat_minor": 5
}
