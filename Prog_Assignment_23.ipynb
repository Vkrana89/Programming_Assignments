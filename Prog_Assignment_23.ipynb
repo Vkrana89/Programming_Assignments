{
 "cells": [
  {
   "cell_type": "code",
   "execution_count": 1,
   "id": "3bacf955",
   "metadata": {},
   "outputs": [
    {
     "name": "stdout",
     "output_type": "stream",
     "text": [
      "True\n",
      "False\n",
      "True\n",
      "False\n",
      "True\n"
     ]
    }
   ],
   "source": [
    "#Q1\n",
    "\n",
    "def is_symmetrical(number):\n",
    "    return str(number) == str(number)[::-1]\n",
    "\n",
    "print(is_symmetrical(7227))\n",
    "# Output: True\n",
    "\n",
    "print(is_symmetrical(12567))\n",
    "# Output: False\n",
    "\n",
    "print(is_symmetrical(44444444))\n",
    "# Output: True\n",
    "\n",
    "print(is_symmetrical(9939))\n",
    "# Output: False\n",
    "\n",
    "print(is_symmetrical(1112111))\n",
    "# Output: True\n"
   ]
  },
  {
   "cell_type": "code",
   "execution_count": 2,
   "id": "7e5dab00",
   "metadata": {},
   "outputs": [
    {
     "name": "stdout",
     "output_type": "stream",
     "text": [
      "6\n",
      "24\n",
      "0\n",
      "-20\n"
     ]
    }
   ],
   "source": [
    "#Q2\n",
    "\n",
    "def multiply_nums(nums_str):\n",
    "    numbers = [int(num) for num in nums_str.split(\", \")]\n",
    "    product = 1\n",
    "    for num in numbers:\n",
    "        product *= num\n",
    "    return product\n",
    "\n",
    "print(multiply_nums(\"2, 3\"))\n",
    "# Output: 6\n",
    "\n",
    "print(multiply_nums(\"1, 2, 3, 4\"))\n",
    "# Output: 24\n",
    "\n",
    "print(multiply_nums(\"54, 75, 453, 0\"))\n",
    "# Output: 0\n",
    "\n",
    "print(multiply_nums(\"10, -2\"))\n",
    "# Output: -20\n"
   ]
  },
  {
   "cell_type": "code",
   "execution_count": 3,
   "id": "709f980f",
   "metadata": {},
   "outputs": [
    {
     "name": "stdout",
     "output_type": "stream",
     "text": [
      "811181\n",
      "416649\n",
      "9414\n"
     ]
    }
   ],
   "source": [
    "#Q3\n",
    "\n",
    "def square_digits(num):\n",
    "    squared_digits = [str(int(digit) ** 2) for digit in str(num)]\n",
    "    new_num = int(\"\".join(squared_digits))\n",
    "    return new_num\n",
    "\n",
    "print(square_digits(9119))\n",
    "# Output: 811181\n",
    "\n",
    "print(square_digits(2483))\n",
    "# Output: 416649\n",
    "\n",
    "print(square_digits(3212))\n",
    "# Output: 9414\n"
   ]
  },
  {
   "cell_type": "code",
   "execution_count": 4,
   "id": "4a81020d",
   "metadata": {},
   "outputs": [
    {
     "name": "stdout",
     "output_type": "stream",
     "text": [
      "[1, 3, 5]\n",
      "[4]\n",
      "[5, 7, 8, 9, 10, 15]\n",
      "[1, 2, 3]\n"
     ]
    }
   ],
   "source": [
    "#Q4\n",
    "\n",
    "def setify(lst):\n",
    "    sorted_lst = sorted(lst)\n",
    "    deduplicated_lst = list(set(sorted_lst))\n",
    "    return deduplicated_lst\n",
    "\n",
    "print(setify([1, 3, 3, 5, 5]))\n",
    "# Output: [1, 3, 5]\n",
    "\n",
    "print(setify([4, 4, 4, 4]))\n",
    "# Output: [4]\n",
    "\n",
    "print(setify([5, 7, 8, 9, 10, 15]))\n",
    "# Output: [5, 7, 8, 9, 10, 15]\n",
    "\n",
    "print(setify([3, 3, 3, 2, 1]))\n",
    "# Output: [1, 2, 3]\n"
   ]
  },
  {
   "cell_type": "code",
   "execution_count": 5,
   "id": "c5ec2b6a",
   "metadata": {},
   "outputs": [
    {
     "name": "stdout",
     "output_type": "stream",
     "text": [
      "3\n",
      "3\n",
      "6\n"
     ]
    }
   ],
   "source": [
    "#Q5\n",
    "\n",
    "def mean(number):\n",
    "    digits = [int(digit) for digit in str(number)]\n",
    "    total_digits = len(digits)\n",
    "    sum_of_digits = sum(digits)\n",
    "    mean_value = sum_of_digits // total_digits\n",
    "    return mean_value\n",
    "\n",
    "print(mean(42))\n",
    "# Output: 3\n",
    "\n",
    "print(mean(12345))\n",
    "# Output: 3\n",
    "\n",
    "print(mean(666))\n",
    "# Output: 6\n"
   ]
  },
  {
   "cell_type": "code",
   "execution_count": null,
   "id": "f2f4139b",
   "metadata": {},
   "outputs": [],
   "source": []
  }
 ],
 "metadata": {
  "kernelspec": {
   "display_name": "Python 3 (ipykernel)",
   "language": "python",
   "name": "python3"
  },
  "language_info": {
   "codemirror_mode": {
    "name": "ipython",
    "version": 3
   },
   "file_extension": ".py",
   "mimetype": "text/x-python",
   "name": "python",
   "nbconvert_exporter": "python",
   "pygments_lexer": "ipython3",
   "version": "3.10.9"
  }
 },
 "nbformat": 4,
 "nbformat_minor": 5
}
