{
 "cells": [
  {
   "cell_type": "code",
   "execution_count": 6,
   "id": "09ed9000",
   "metadata": {},
   "outputs": [
    {
     "name": "stdout",
     "output_type": "stream",
     "text": [
      "[1, 2]\n",
      "[1, 0, 15]\n",
      "[1, 2, 123]\n"
     ]
    }
   ],
   "source": [
    "#Q1\n",
    "\n",
    "def filter_list(lst):\n",
    "    return [x for x in lst if isinstance(x, int) and x >= 0]\n",
    "\n",
    "# Examples\n",
    "print(filter_list([1, 2, \"a\", \"b\"]))                   # Output: [1, 2]\n",
    "print(filter_list([1, \"a\", \"b\", 0, 15]))               # Output: [1, 0, 15]\n",
    "print(filter_list([1, 2, \"aasf\", \"1\", \"123\", 123]))    # Output: [1, 2, 123]\n"
   ]
  },
  {
   "cell_type": "code",
   "execution_count": 7,
   "id": "12831067",
   "metadata": {},
   "outputs": [
    {
     "name": "stdout",
     "output_type": "stream",
     "text": [
      "DLROw OLLEh\n",
      "eSrEvEr\n",
      "RADAr\n"
     ]
    }
   ],
   "source": [
    "#Q2\n",
    "def reverse(string):\n",
    "    return string[::-1].swapcase()\n",
    "\n",
    "# Examples\n",
    "print(reverse(\"Hello World\"))  # Output: \"DLROw OLLEh\"\n",
    "print(reverse(\"ReVeRsE\"))      # Output: \"eSrEvEr\"\n",
    "print(reverse(\"Radar\"))        # Output: \"RADAr\"\n",
    "\n"
   ]
  },
  {
   "cell_type": "code",
   "execution_count": 8,
   "id": "76f41c40",
   "metadata": {},
   "outputs": [
    {
     "name": "stdout",
     "output_type": "stream",
     "text": [
      "1\n",
      "[2, 3, 4, 5]\n",
      "6\n"
     ]
    }
   ],
   "source": [
    "#Q3\n",
    "\n",
    "writeyourcodehere = [1, 2, 3, 4, 5, 6]\n",
    "first, *middle, last = writeyourcodehere\n",
    "\n",
    "print(first)   # Output: 1\n",
    "print(middle)  # Output: [2, 3, 4, 5]\n",
    "print(last)    # Output: 6\n"
   ]
  },
  {
   "cell_type": "code",
   "execution_count": 17,
   "id": "c638895f",
   "metadata": {},
   "outputs": [
    {
     "name": "stdout",
     "output_type": "stream",
     "text": [
      "120\n",
      "6\n",
      "1\n",
      "1\n"
     ]
    }
   ],
   "source": [
    "#Q4\n",
    "\n",
    "def factorial(n):\n",
    "    if n == 0 or n == 1:\n",
    "        return 1\n",
    "    else:\n",
    "        return n * factorial(n - 1)\n",
    "    \n",
    "print(factorial(5))  # Output: 120\n",
    "print(factorial(3))  # Output: 6\n",
    "print(factorial(1))  # Output: 1\n",
    "print(factorial(0))  # Output: 1"
   ]
  },
  {
   "cell_type": "code",
   "execution_count": 18,
   "id": "3a948ebf",
   "metadata": {},
   "outputs": [
    {
     "name": "stdout",
     "output_type": "stream",
     "text": [
      "[3, 2, 4, 4, 1, 1]\n",
      "[7, 8, 1, 2, 3, 4, 9]\n",
      "['b', 'a', 'a', 'a']\n"
     ]
    }
   ],
   "source": [
    "#Q5\n",
    "\n",
    "def move_to_end(lst, element):\n",
    "    return [x for x in lst if x != element] + [x for x in lst if x == element]\n",
    "\n",
    "print(move_to_end([1, 3, 2, 4, 4, 1], 1))\n",
    "# Output: [3, 2, 4, 4, 1, 1]\n",
    "\n",
    "print(move_to_end([7, 8, 9, 1, 2, 3, 4], 9))\n",
    "# Output: [7, 8, 1, 2, 3, 4, 9]\n",
    "\n",
    "print(move_to_end([\"a\", \"a\", \"a\", \"b\"], \"a\"))\n",
    "# Output: [\"b\", \"a\", \"a\", \"a\"]\n"
   ]
  },
  {
   "cell_type": "code",
   "execution_count": null,
   "id": "7a164890",
   "metadata": {},
   "outputs": [],
   "source": []
  }
 ],
 "metadata": {
  "kernelspec": {
   "display_name": "Python 3 (ipykernel)",
   "language": "python",
   "name": "python3"
  },
  "language_info": {
   "codemirror_mode": {
    "name": "ipython",
    "version": 3
   },
   "file_extension": ".py",
   "mimetype": "text/x-python",
   "name": "python",
   "nbconvert_exporter": "python",
   "pygments_lexer": "ipython3",
   "version": "3.10.9"
  }
 },
 "nbformat": 4,
 "nbformat_minor": 5
}
