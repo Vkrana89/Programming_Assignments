{
 "cells": [
  {
   "cell_type": "code",
   "execution_count": 14,
   "id": "3bacf955",
   "metadata": {},
   "outputs": [
    {
     "name": "stdout",
     "output_type": "stream",
     "text": [
      "3\n",
      "3\n",
      "0\n"
     ]
    }
   ],
   "source": [
    "#Q1\n",
    "\n",
    "def equal(a, b, c):\n",
    "    # Initialize a count variable\n",
    "    count = 0\n",
    "    \n",
    "    # Compare the values of the integers and increment the count if they are equal\n",
    "    if a == b:\n",
    "        count += 1\n",
    "    if a == c:\n",
    "        count += 1\n",
    "    if b == c:\n",
    "        count += 1\n",
    "    \n",
    "    # Return the count\n",
    "    return count\n",
    "\n",
    "print(equal(3, 3, 3))\n",
    "# Output: 2\n",
    "\n",
    "print(equal(1, 1, 1))\n",
    "# Output: 3\n",
    "\n",
    "print(equal(3, 4, 1))\n",
    "# Output: 0\n"
   ]
  },
  {
   "cell_type": "code",
   "execution_count": 17,
   "id": "9f973318",
   "metadata": {},
   "outputs": [
    {
     "name": "stdout",
     "output_type": "stream",
     "text": [
      "[('B', 2), ('C', 3), ('D', 1)]\n",
      "[('dislikes', 3), ('followers', 10), ('likes', 2)]\n"
     ]
    }
   ],
   "source": [
    "#Q2\n",
    "\n",
    "def dict_to_list(dictionary):\n",
    "    # Convert the dictionary items into a list of tuples\n",
    "    items = list(dictionary.items())\n",
    "    \n",
    "    # Sort the list of tuples based on the keys\n",
    "    sorted_items = sorted(items)\n",
    "    \n",
    "    # Return the sorted list of tuples\n",
    "    return sorted_items\n",
    "\n",
    "print(dict_to_list({\n",
    "    \"D\": 1,\n",
    "    \"B\": 2,\n",
    "    \"C\": 3\n",
    "}))\n",
    "# Output: [('B', 2), ('C', 3), ('D', 1)]\n",
    "\n",
    "print(dict_to_list({\n",
    "    \"likes\": 2,\n",
    "    \"dislikes\": 3,\n",
    "    \"followers\": 10\n",
    "}))\n",
    "# Output: [('dislikes', 3), ('followers', 10), ('likes', 2)]\n"
   ]
  },
  {
   "cell_type": "code",
   "execution_count": 18,
   "id": "a4ae83f6",
   "metadata": {},
   "outputs": [
    {
     "name": "stdout",
     "output_type": "stream",
     "text": [
      "{'p': 'P', 's': 'S'}\n",
      "{'a': 'A', 'b': 'B', 'c': 'C'}\n",
      "{'a': 'A', 'v': 'V', 'y': 'Y', 'z': 'Z'}\n"
     ]
    }
   ],
   "source": [
    "#Q3\n",
    "\n",
    "def mapping(letters):\n",
    "    # Create an empty dictionary\n",
    "    result = {}\n",
    "    \n",
    "    # Iterate over the letters\n",
    "    for letter in letters:\n",
    "        # Add the (lowercase, uppercase) pair to the dictionary\n",
    "        result[letter] = letter.upper()\n",
    "    \n",
    "    # Return the dictionary\n",
    "    return result\n",
    "print(mapping([\"p\", \"s\"]))\n",
    "# Output: {'p': 'P', 's': 'S'}\n",
    "\n",
    "print(mapping([\"a\", \"b\", \"c\"]))\n",
    "# Output: {'a': 'A', 'b': 'B', 'c': 'C'}\n",
    "\n",
    "print(mapping([\"a\", \"v\", \"y\", \"z\"]))\n",
    "# Output: {'a': 'A', 'v': 'V', 'y': 'Y', 'z': 'Z'}\n"
   ]
  },
  {
   "cell_type": "code",
   "execution_count": 19,
   "id": "4cb669b0",
   "metadata": {},
   "outputs": [
    {
     "name": "stdout",
     "output_type": "stream",
     "text": [
      "upplus und bununus\n",
      "chooso cossorolo\n",
      "steffed jelepene peppers\n"
     ]
    }
   ],
   "source": [
    "#Q4\n",
    "\n",
    "def vow_replace(string, vowel):\n",
    "    # Define a string of vowels\n",
    "    vowels = 'aeiou'\n",
    "    \n",
    "    # Convert the specified vowel to lowercase\n",
    "    vowel = vowel.lower()\n",
    "    \n",
    "    # Initialize an empty string to store the modified string\n",
    "    result = ''\n",
    "    \n",
    "    # Iterate over each character in the string\n",
    "    for char in string:\n",
    "        # Check if the character is a vowel (case-insensitive)\n",
    "        if char.lower() in vowels:\n",
    "            # Replace the vowel with the specified vowel\n",
    "            result += vowel\n",
    "        else:\n",
    "            # Keep the character unchanged\n",
    "            result += char\n",
    "    \n",
    "    # Return the modified string\n",
    "    return result\n",
    "print(vow_replace(\"apples and bananas\", \"u\"))\n",
    "# Output: \"upplus und bununus\"\n",
    "\n",
    "print(vow_replace(\"cheese casserole\", \"o\"))\n",
    "# Output: \"chooso cossorolo\"\n",
    "\n",
    "print(vow_replace(\"stuffed jalapeno poppers\", \"e\"))\n",
    "# Output: \"steffed jelepene peppers\"\n"
   ]
  },
  {
   "cell_type": "code",
   "execution_count": 20,
   "id": "3f8674e3",
   "metadata": {},
   "outputs": [
    {
     "name": "stdout",
     "output_type": "stream",
     "text": [
      "To Be oR NoT To Be!\n",
      "THe LiTTLe meRmaiD\n",
      "oH wHaT a BeauTiFuL moRNiNg.\n"
     ]
    }
   ],
   "source": [
    "#Q5\n",
    "\n",
    "def ascii_capitalize(string):\n",
    "    # Initialize an empty string to store the modified string\n",
    "    result = ''\n",
    "    \n",
    "    # Iterate over each character in the string\n",
    "    for char in string:\n",
    "        # Check the ASCII code of the character\n",
    "        if ord(char) % 2 == 0:\n",
    "            # Capitalize the letter if the ASCII code is even\n",
    "            result += char.upper()\n",
    "        else:\n",
    "            # Convert the letter to lowercase if the ASCII code is odd\n",
    "            result += char.lower()\n",
    "    \n",
    "    # Return the modified string\n",
    "    return result\n",
    "\n",
    "print(ascii_capitalize(\"to be or not to be!\"))\n",
    "# Output: \"To Be oR NoT To Be!\"\n",
    "\n",
    "print(ascii_capitalize(\"THE LITTLE MERMAID\"))\n",
    "# Output: \"THe LiTTLe meRmaiD\"\n",
    "\n",
    "print(ascii_capitalize(\"Oh what a beautiful morning.\"))\n",
    "# Output: \"oH wHaT a BeauTiFuL moRNiNg.\"\n"
   ]
  },
  {
   "cell_type": "code",
   "execution_count": null,
   "id": "9a33374d",
   "metadata": {},
   "outputs": [],
   "source": []
  }
 ],
 "metadata": {
  "kernelspec": {
   "display_name": "Python 3 (ipykernel)",
   "language": "python",
   "name": "python3"
  },
  "language_info": {
   "codemirror_mode": {
    "name": "ipython",
    "version": 3
   },
   "file_extension": ".py",
   "mimetype": "text/x-python",
   "name": "python",
   "nbconvert_exporter": "python",
   "pygments_lexer": "ipython3",
   "version": "3.10.9"
  }
 },
 "nbformat": 4,
 "nbformat_minor": 5
}
