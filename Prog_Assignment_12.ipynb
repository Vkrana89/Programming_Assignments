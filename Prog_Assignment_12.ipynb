{
 "cells": [
  {
   "cell_type": "code",
   "execution_count": 1,
   "id": "8c8a139d",
   "metadata": {},
   "outputs": [
    {
     "name": "stdout",
     "output_type": "stream",
     "text": [
      "Unique values: {40, 10, 20, 30}\n"
     ]
    }
   ],
   "source": [
    "#Write a Python program to Extract Unique values dictionary values?\n",
    "def extract_unique_values(dictionary):\n",
    "    unique_values = set(dictionary.values())\n",
    "    return unique_values\n",
    "\n",
    "# Example usage:\n",
    "input_dict = {\n",
    "    'key1': 10,\n",
    "    'key2': 20,\n",
    "    'key3': 30,\n",
    "    'key4': 20,\n",
    "    'key5': 40\n",
    "}\n",
    "result = extract_unique_values(input_dict)\n",
    "print(\"Unique values:\", result)\n"
   ]
  },
  {
   "cell_type": "code",
   "execution_count": 2,
   "id": "8218075d",
   "metadata": {},
   "outputs": [
    {
     "name": "stdout",
     "output_type": "stream",
     "text": [
      "Sum of dictionary items: 150\n"
     ]
    }
   ],
   "source": [
    "#Write a Python program to find the sum of all items in a dictionary?\n",
    "def sum_dictionary_items(dictionary):\n",
    "    return sum(dictionary.values())\n",
    "\n",
    "# Example usage:\n",
    "input_dict = {\n",
    "    'key1': 10,\n",
    "    'key2': 20,\n",
    "    'key3': 30,\n",
    "    'key4': 40,\n",
    "    'key5': 50\n",
    "}\n",
    "result = sum_dictionary_items(input_dict)\n",
    "print(\"Sum of dictionary items:\", result)\n"
   ]
  },
  {
   "cell_type": "code",
   "execution_count": 3,
   "id": "57e5bfec",
   "metadata": {},
   "outputs": [
    {
     "name": "stdout",
     "output_type": "stream",
     "text": [
      "Merged dictionary: {'key1': 10, 'key2': 20, 'key3': 30, 'key4': 40}\n"
     ]
    }
   ],
   "source": [
    "#Write a Python program to Merging two Dictionaries?\n",
    "def merge_dictionaries(dict1, dict2):\n",
    "    merged_dict = dict1.copy()\n",
    "    merged_dict.update(dict2)\n",
    "    return merged_dict\n",
    "\n",
    "# Example usage:\n",
    "dict1 = {'key1': 10, 'key2': 20}\n",
    "dict2 = {'key3': 30, 'key4': 40}\n",
    "result = merge_dictionaries(dict1, dict2)\n",
    "print(\"Merged dictionary:\", result)\n"
   ]
  },
  {
   "cell_type": "code",
   "execution_count": 4,
   "id": "e87871a2",
   "metadata": {},
   "outputs": [
    {
     "name": "stdout",
     "output_type": "stream",
     "text": [
      "Flat dictionary: {'key1': 10, 'key2': 20, 'key3': 30}\n"
     ]
    }
   ],
   "source": [
    "#Write a Python program to convert key-values list to flat dictionary?\n",
    "def convert_to_flat_dictionary(key_value_list):\n",
    "    flat_dictionary = {}\n",
    "    for pair in key_value_list:\n",
    "        key, value = pair\n",
    "        flat_dictionary[key] = value\n",
    "    return flat_dictionary\n",
    "\n",
    "# Example usage:\n",
    "input_list = [('key1', 10), ('key2', 20), ('key3', 30)]\n",
    "result = convert_to_flat_dictionary(input_list)\n",
    "print(\"Flat dictionary:\", result)\n"
   ]
  },
  {
   "cell_type": "code",
   "execution_count": 5,
   "id": "f995a91d",
   "metadata": {},
   "outputs": [
    {
     "name": "stdout",
     "output_type": "stream",
     "text": [
      "Original OrderedDict: OrderedDict([('key1', 10), ('key2', 20), ('key3', 30)])\n",
      "Modified OrderedDict: OrderedDict([('key4', 40), ('key1', 10), ('key2', 20), ('key3', 30)])\n"
     ]
    }
   ],
   "source": [
    "#Write a Python program to insertion at the beginning in OrderedDict?\n",
    "from collections import OrderedDict\n",
    "\n",
    "def insert_at_beginning(odict, key, value):\n",
    "    odict[key] = value\n",
    "    odict.move_to_end(key, last=False)\n",
    "\n",
    "# Example usage:\n",
    "ordered_dict = OrderedDict([('key1', 10), ('key2', 20), ('key3', 30)])\n",
    "print(\"Original OrderedDict:\", ordered_dict)\n",
    "\n",
    "insert_at_beginning(ordered_dict, 'key4', 40)\n",
    "print(\"Modified OrderedDict:\", ordered_dict)\n"
   ]
  },
  {
   "cell_type": "code",
   "execution_count": 6,
   "id": "573c3e2d",
   "metadata": {},
   "outputs": [
    {
     "name": "stdout",
     "output_type": "stream",
     "text": [
      "The characters in the string are not in order.\n"
     ]
    }
   ],
   "source": [
    "# Write a Python program to check order of character in string using OrderedDict()?\n",
    "from collections import OrderedDict\n",
    "\n",
    "def check_character_order(string):\n",
    "    char_order = OrderedDict()\n",
    "    for char in string:\n",
    "        char_order[char] = None\n",
    "    \n",
    "    ordered_chars = ''.join(char_order.keys())\n",
    "    return ordered_chars == string\n",
    "\n",
    "# Example usage:\n",
    "input_string = \"hello\"\n",
    "result = check_character_order(input_string)\n",
    "if result:\n",
    "    print(\"The characters in the string are in order.\")\n",
    "else:\n",
    "    print(\"The characters in the string are not in order.\")\n"
   ]
  },
  {
   "cell_type": "code",
   "execution_count": 7,
   "id": "21b0768f",
   "metadata": {},
   "outputs": [
    {
     "name": "stdout",
     "output_type": "stream",
     "text": [
      "Sorted by key: {'key1': 10, 'key2': 20, 'key3': 30}\n",
      "Sorted by value: {'key1': 10, 'key2': 20, 'key3': 30}\n"
     ]
    }
   ],
   "source": [
    "# Write a Python program to sort Python Dictionaries by Key or Value?\n",
    "def sort_dictionary(dictionary, by_key=True):\n",
    "    sorted_dict = {}\n",
    "    if by_key:\n",
    "        sorted_keys = sorted(dictionary.keys())\n",
    "        for key in sorted_keys:\n",
    "            sorted_dict[key] = dictionary[key]\n",
    "    else:\n",
    "        sorted_items = sorted(dictionary.items(), key=lambda x: x[1])\n",
    "        for item in sorted_items:\n",
    "            sorted_dict[item[0]] = item[1]\n",
    "    return sorted_dict\n",
    "\n",
    "# Example usage:\n",
    "input_dict = {'key2': 20, 'key1': 10, 'key3': 30}\n",
    "result_key = sort_dictionary(input_dict, by_key=True)\n",
    "result_value = sort_dictionary(input_dict, by_key=False)\n",
    "print(\"Sorted by key:\", result_key)\n",
    "print(\"Sorted by value:\", result_value)\n"
   ]
  },
  {
   "cell_type": "code",
   "execution_count": null,
   "id": "96b75a70",
   "metadata": {},
   "outputs": [],
   "source": []
  }
 ],
 "metadata": {
  "kernelspec": {
   "display_name": "Python 3 (ipykernel)",
   "language": "python",
   "name": "python3"
  },
  "language_info": {
   "codemirror_mode": {
    "name": "ipython",
    "version": 3
   },
   "file_extension": ".py",
   "mimetype": "text/x-python",
   "name": "python",
   "nbconvert_exporter": "python",
   "pygments_lexer": "ipython3",
   "version": "3.10.9"
  }
 },
 "nbformat": 4,
 "nbformat_minor": 5
}
