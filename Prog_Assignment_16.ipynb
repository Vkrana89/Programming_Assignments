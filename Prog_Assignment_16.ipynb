{
 "cells": [
  {
   "cell_type": "code",
   "execution_count": 1,
   "id": "82161d88",
   "metadata": {},
   "outputs": [
    {
     "name": "stdout",
     "output_type": "stream",
     "text": [
      "in... in... incredible?\n",
      "en... en... enthusiastic?\n",
      "ou... ou... outstanding?\n"
     ]
    }
   ],
   "source": [
    "#Q1\n",
    "\n",
    "def stutter(word):\n",
    "    first_two_letters = word[:2]\n",
    "    stuttered_word = f\"{first_two_letters}... {first_two_letters}... {word}?\"\n",
    "    return stuttered_word\n",
    "\n",
    "\n",
    "# Usage\n",
    "print(stutter(\"incredible\"))      # Output: in... in... incredible?\n",
    "print(stutter(\"enthusiastic\"))    # Output: en... en... enthusiastic?\n",
    "print(stutter(\"outstanding\"))     # Output: ou... ou... outstanding?\n"
   ]
  },
  {
   "cell_type": "code",
   "execution_count": 2,
   "id": "863be5bc",
   "metadata": {},
   "outputs": [
    {
     "name": "stdout",
     "output_type": "stream",
     "text": [
      "57.3\n",
      "1145.9\n",
      "2864.8\n"
     ]
    }
   ],
   "source": [
    "#Q2\n",
    "\n",
    "import math\n",
    "\n",
    "def radians_to_degrees(radians):\n",
    "    degrees = radians * (180 / math.pi)\n",
    "    return round(degrees, 1)\n",
    "\n",
    "\n",
    "# Usage\n",
    "print(radians_to_degrees(1))    # Output: 57.3\n",
    "print(radians_to_degrees(20))   # Output: 1145.9\n",
    "print(radians_to_degrees(50))   # Output: 2864.8\n"
   ]
  },
  {
   "cell_type": "code",
   "execution_count": 3,
   "id": "991ca913",
   "metadata": {},
   "outputs": [
    {
     "name": "stdout",
     "output_type": "stream",
     "text": [
      "True\n",
      "False\n",
      "True\n"
     ]
    }
   ],
   "source": [
    "#Q3\n",
    "\n",
    "def is_curzon(num):\n",
    "    numerator = 2 ** num + 1\n",
    "    denominator = 2 * num + 1\n",
    "    return numerator % denominator == 0\n",
    "\n",
    "\n",
    "# Usage\n",
    "print(is_curzon(5))    # Output: True\n",
    "print(is_curzon(10))   # Output: False\n",
    "print(is_curzon(14))   # Output: True\n"
   ]
  },
  {
   "cell_type": "code",
   "execution_count": 4,
   "id": "91a79116",
   "metadata": {},
   "outputs": [
    {
     "name": "stdout",
     "output_type": "stream",
     "text": [
      "2.6\n",
      "10.4\n",
      "23.4\n"
     ]
    }
   ],
   "source": [
    "#q4\n",
    "import math\n",
    "\n",
    "def area_of_hexagon(x):\n",
    "    area = (3 * math.sqrt(3) * x ** 2) / 2\n",
    "    return round(area, 1)\n",
    "\n",
    "\n",
    "# Usage\n",
    "print(area_of_hexagon(1))   # Output: 2.6\n",
    "print(area_of_hexagon(2))   # Output: 10.4\n",
    "print(area_of_hexagon(3))   # Output: 23.4\n"
   ]
  },
  {
   "cell_type": "code",
   "execution_count": 5,
   "id": "6af88a52",
   "metadata": {},
   "outputs": [
    {
     "name": "stdout",
     "output_type": "stream",
     "text": [
      "1\n",
      "101\n",
      "1010\n"
     ]
    }
   ],
   "source": [
    "#Q5\n",
    "\n",
    "def binary(decimal):\n",
    "    if decimal == 0:\n",
    "        return \"0\"\n",
    "\n",
    "    binary_rep = \"\"\n",
    "    while decimal > 0:\n",
    "        remainder = decimal % 2\n",
    "        binary_rep += str(remainder)\n",
    "        decimal = decimal // 2\n",
    "\n",
    "    binary_rep = binary_rep[::-1]  # Reverse the binary representation\n",
    "    return binary_rep\n",
    "\n",
    "\n",
    "# Usage\n",
    "print(binary(1))    # Output: \"1\"\n",
    "print(binary(5))    # Output: \"101\"\n",
    "print(binary(10))   # Output: \"1010\"\n"
   ]
  },
  {
   "cell_type": "code",
   "execution_count": null,
   "id": "18c33839",
   "metadata": {},
   "outputs": [],
   "source": []
  }
 ],
 "metadata": {
  "kernelspec": {
   "display_name": "Python 3 (ipykernel)",
   "language": "python",
   "name": "python3"
  },
  "language_info": {
   "codemirror_mode": {
    "name": "ipython",
    "version": 3
   },
   "file_extension": ".py",
   "mimetype": "text/x-python",
   "name": "python",
   "nbconvert_exporter": "python",
   "pygments_lexer": "ipython3",
   "version": "3.10.9"
  }
 },
 "nbformat": 4,
 "nbformat_minor": 5
}
