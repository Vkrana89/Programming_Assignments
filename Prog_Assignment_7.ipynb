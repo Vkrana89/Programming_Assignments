{
 "cells": [
  {
   "cell_type": "code",
   "execution_count": 1,
   "id": "87fbd465",
   "metadata": {},
   "outputs": [
    {
     "name": "stdout",
     "output_type": "stream",
     "text": [
      "The sum of the array is: 15\n"
     ]
    }
   ],
   "source": [
    "#Write a Python Program to find sum of array?\n",
    "def array_sum(arr):\n",
    "    sum = 0\n",
    "    for num in arr:\n",
    "        sum += num\n",
    "    return sum\n",
    "\n",
    "# Example usage\n",
    "arr = [1, 2, 3, 4, 5]\n",
    "\n",
    "result = array_sum(arr)\n",
    "print(\"The sum of the array is:\", result)\n",
    "\n"
   ]
  },
  {
   "cell_type": "code",
   "execution_count": 2,
   "id": "8286ab71",
   "metadata": {},
   "outputs": [
    {
     "name": "stdout",
     "output_type": "stream",
     "text": [
      "The largest element in the array is: 78\n"
     ]
    }
   ],
   "source": [
    "#Write a Python Program to find largest element in an array?\n",
    "def find_largest_element(arr):\n",
    "    largest = arr[0]\n",
    "    for num in arr:\n",
    "        if num > largest:\n",
    "            largest = num\n",
    "    return largest\n",
    "\n",
    "# Example usage\n",
    "arr = [12, 45, 78, 23, 56]\n",
    "\n",
    "largest_element = find_largest_element(arr)\n",
    "print(\"The largest element in the array is:\", largest_element)\n"
   ]
  },
  {
   "cell_type": "code",
   "execution_count": 3,
   "id": "fe50324f",
   "metadata": {},
   "outputs": [
    {
     "name": "stdout",
     "output_type": "stream",
     "text": [
      "Original array: [1, 2, 3, 4, 5]\n",
      "Rotated array: [3, 4, 5, 1, 2]\n"
     ]
    }
   ],
   "source": [
    "#Write a Python Program for array rotation?\n",
    "def rotate_array(arr, k):\n",
    "    n = len(arr)\n",
    "    k = k % n  # Adjust k if it exceeds the length of the array\n",
    "    rotated_arr = arr[k:] + arr[:k]\n",
    "    return rotated_arr\n",
    "\n",
    "# Example usage\n",
    "arr = [1, 2, 3, 4, 5]\n",
    "rotation_steps = 2\n",
    "\n",
    "rotated_array = rotate_array(arr, rotation_steps)\n",
    "print(\"Original array:\", arr)\n",
    "print(\"Rotated array:\", rotated_array)\n"
   ]
  },
  {
   "cell_type": "code",
   "execution_count": 6,
   "id": "7c029c9e",
   "metadata": {},
   "outputs": [
    {
     "name": "stdout",
     "output_type": "stream",
     "text": [
      "Original array: [1, 2, 3, 4, 5]\n",
      "Split and rotated array: [3, 4, 5, 1, 2]\n"
     ]
    }
   ],
   "source": [
    "#Write a Python Program to Split the array and add the first part to the end?\n",
    "def split_and_add(arr, n):\n",
    "    if n <= 0 or n >= len(arr):\n",
    "        return arr\n",
    "\n",
    "    split_arr = arr[:n]\n",
    "    remaining_arr = arr[n:]\n",
    "\n",
    "    rotated_arr = remaining_arr + split_arr\n",
    "    return rotated_arr\n",
    "\n",
    "# Example \n",
    "arr = [1, 2, 3, 4, 5]\n",
    "split_position = 2\n",
    "\n",
    "result = split_and_add(arr, split_position)\n",
    "print(\"Original array:\", arr)\n",
    "print(\"Split and rotated array:\", result) #Here's an example output for the given array [1, 2, 3, 4, 5] with a split position of 2:\n"
   ]
  },
  {
   "cell_type": "code",
   "execution_count": 7,
   "id": "c9c980e7",
   "metadata": {},
   "outputs": [
    {
     "name": "stdout",
     "output_type": "stream",
     "text": [
      "Is the array monotonic? True\n"
     ]
    }
   ],
   "source": [
    "#Write a Python Program to check if given array is Monotonic?\n",
    "def is_monotonic(arr):\n",
    "    increasing = decreasing = True\n",
    "\n",
    "    for i in range(1, len(arr)):\n",
    "        if arr[i] > arr[i - 1]:\n",
    "            decreasing = False\n",
    "        if arr[i] < arr[i - 1]:\n",
    "            increasing = False\n",
    "\n",
    "    return increasing or decreasing\n",
    "\n",
    "# Example \n",
    "arr = [1, 2, 3, 4, 5]\n",
    "result = is_monotonic(arr)\n",
    "print(\"Is the array monotonic?\", result)\n"
   ]
  },
  {
   "cell_type": "code",
   "execution_count": null,
   "id": "34a0cc3f",
   "metadata": {},
   "outputs": [],
   "source": []
  }
 ],
 "metadata": {
  "kernelspec": {
   "display_name": "Python 3 (ipykernel)",
   "language": "python",
   "name": "python3"
  },
  "language_info": {
   "codemirror_mode": {
    "name": "ipython",
    "version": 3
   },
   "file_extension": ".py",
   "mimetype": "text/x-python",
   "name": "python",
   "nbconvert_exporter": "python",
   "pygments_lexer": "ipython3",
   "version": "3.10.9"
  }
 },
 "nbformat": 4,
 "nbformat_minor": 5
}
